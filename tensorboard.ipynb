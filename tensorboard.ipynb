{
 "cells": [
  {
   "cell_type": "markdown",
   "metadata": {},
   "source": [
    "## 此次训练的工具总结"
   ]
  },
  {
   "cell_type": "markdown",
   "metadata": {},
   "source": [
    "### tensorboard\n",
    "#### 安装  \n",
    "1. TensorBoard 包含在 TensorFlow 库中，所以如果我们成功安装了 TensorFlow，我们也可以使用 TensorBoard。  \n",
    "2. 独立安装：pip install tensorboard\n",
    "\n",
    "\n",
    "#### 检测是否安装tensorboard\n",
    "python导入：from torch.utils.tensorboard import SummaryWriter  \n",
    "看是否出现信息\n",
    "\n",
    "#### 启动tensorborad\n",
    "命令行：tensorboard --logdir=<directory_name>  \n",
    "'这里主要是tensorboard打开想要加载的日志数据文件夹，默认是logs '  \n",
    "之后用浏览器打开http://localhost:6006/查看。  "
   ]
  },
  {
   "cell_type": "markdown",
   "metadata": {},
   "source": [
    "### argparse库（命令行解析模块） \n",
    "` argparse 是基于 optparse 的`\n",
    "#### 基础\n",
    "重点：什么是`*可选参数optional arguments*`以及`*位置参数positional arguments*`\n",
    "首先，我们需要了解基本的命令行的格式，例如从ls命令开始   \n",
    "1. ls  \n",
    "    显示当前目录的文件以及文件夹\n",
    "2. ls folder   \n",
    "    显示文件夹内的文件\n",
    "3. ls -l  \n",
    "    -l 被称为可选参数,在这个例子中输出了更多信息\n",
    "4. ls --help  \n",
    "    --help参数输出了ls的帮助文档\n",
    "    \n",
    "例子：  \n",
    "`$python prog.py --help`  \n",
    "`usage: prog.py [-h]`  \n",
    "`options:` \n",
    " ` -h, --help  show this help message and exit`  \n",
    " 这个例子输出的就是这个python脚本的使用方法，usage为使用方法 ，options为该脚本的可选参数  \n",
    "\n",
    " \n",
    " 例子：  \n",
    " `$python mycode.py 1 2`  \n",
    " 这个例子的12就是位置参数positional arguments\n"
   ]
  },
  {
   "cell_type": "markdown",
   "metadata": {},
   "source": [
    "####使用\n"
   ]
  },
  {
   "cell_type": "code",
   "execution_count": null,
   "metadata": {},
   "outputs": [],
   "source": [
    "import argparse\n",
    "parser = argparse.ArgumentParser(description='此代码用于求两个整数之和')\n",
    "#首先声明一个参数解析器，这个parse对象相当于一个总容器，存放着全部的信息\n",
    "parser.add_argument(\"a\", type=int,help=\"第一个整数\")\n",
    "#.add_argument（）方法添加一个positional arguments，叫a,读取类型为int（默认是字符串）\n",
    "#该方法指定程序将能接受哪些命令行选项\n",
    "#该方法可以接受输入：\n",
    "# 指定类型type=\n",
    "# 参数解释文字help=\"string\"\n",
    "parser.add_argument(\"b\",type=int,help=\"第二个整数\")\n",
    "#添加一个positional arguments，叫b，读取类型为int（默认是字符串）\n",
    "\n",
    "args = parser.parse_args()\n",
    "#parse_args() 方法实际将接收来自命令行中指定选项的某些数据\n",
    "#parse_args的类型是Namespaces，相当于一个字典，存放着所有positional arguments\n",
    "sum=args.a+args.b       #调出参数a和b，求和\n",
    "#参数的调用，args.参数名\n",
    "print(sum)\n"
   ]
  },
  {
   "cell_type": "code",
   "execution_count": null,
   "metadata": {},
   "outputs": [],
   "source": []
  }
 ],
 "metadata": {
  "kernelspec": {
   "display_name": "obbdetection",
   "language": "python",
   "name": "python3"
  },
  "language_info": {
   "codemirror_mode": {
    "name": "ipython",
    "version": 3
   },
   "file_extension": ".py",
   "mimetype": "text/x-python",
   "name": "python",
   "nbconvert_exporter": "python",
   "pygments_lexer": "ipython3",
   "version": "3.8.19"
  }
 },
 "nbformat": 4,
 "nbformat_minor": 2
}
